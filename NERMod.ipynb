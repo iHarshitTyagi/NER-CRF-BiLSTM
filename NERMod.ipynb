{
 "cells": [
  {
   "cell_type": "markdown",
   "id": "92424e16-6453-4b6a-b334-e766fb33bedb",
   "metadata": {},
   "source": [
    "## NER Model"
   ]
  },
  {
   "cell_type": "code",
   "execution_count": 14,
   "id": "523c1bc8840f9b77",
   "metadata": {
    "ExecuteTime": {
     "end_time": "2024-06-09T17:07:06.296287Z",
     "start_time": "2024-06-09T17:07:06.272303Z"
    },
    "collapsed": false,
    "jupyter": {
     "outputs_hidden": false
    }
   },
   "outputs": [],
   "source": [
    "import warnings\n",
    "warnings.filterwarnings(\"ignore\")"
   ]
  },
  {
   "cell_type": "markdown",
   "id": "bcb195b0-61f7-4030-8a58-4ac4deab92d0",
   "metadata": {},
   "source": [
    "#### Importing the Libraries"
   ]
  },
  {
   "cell_type": "code",
   "execution_count": 15,
   "id": "75e5e54e-3e5e-42f0-b031-a3f7083c9793",
   "metadata": {
    "ExecuteTime": {
     "end_time": "2024-06-09T17:07:07.823892Z",
     "start_time": "2024-06-09T17:07:06.801214Z"
    }
   },
   "outputs": [],
   "source": [
    "# Importing the necessary libraries\n",
    "\n",
    "import pandas as pd\n",
    "import numpy as np\n",
    "\n",
    "from sklearn.model_selection import train_test_split\n",
    "from sklearn.metrics import precision_recall_fscore_support, accuracy_score\n",
    "\n",
    "from sklearn_crfsuite import CRF, metrics\n",
    "from sklearn.metrics import classification_report"
   ]
  },
  {
   "cell_type": "markdown",
   "id": "92a9169e-ae19-4418-b9ba-8b750708dfaa",
   "metadata": {},
   "source": [
    "#### Loading the Data"
   ]
  },
  {
   "cell_type": "code",
   "execution_count": 16,
   "id": "1001cb01-9508-48fe-94cb-f9d98bc56e61",
   "metadata": {
    "ExecuteTime": {
     "end_time": "2024-06-09T17:07:08.060810Z",
     "start_time": "2024-06-09T17:07:07.824556Z"
    }
   },
   "outputs": [],
   "source": [
    "# Reading the csv file\n",
    "df = pd.read_csv(\"ner dataset/data/ner_dataset.csv\", encoding='latin1')"
   ]
  },
  {
   "cell_type": "code",
   "execution_count": 17,
   "id": "f92ae60f-fd40-413d-bc15-eb8f7fefeb43",
   "metadata": {
    "ExecuteTime": {
     "end_time": "2024-06-09T17:07:08.117548Z",
     "start_time": "2024-06-09T17:07:08.062155Z"
    }
   },
   "outputs": [],
   "source": [
    "# Sentence has missing values filling them using forward fill to fill null values\n",
    "df['Sentence #'] = df['Sentence #'].ffill(axis=0)"
   ]
  },
  {
   "cell_type": "code",
   "execution_count": 18,
   "id": "7f34887e-cf87-48b6-be5a-523af0f27f1a",
   "metadata": {},
   "outputs": [
    {
     "data": {
      "text/plain": [
       "array(['O', 'B-geo', 'B-gpe', 'B-per', 'I-geo', 'B-org', 'I-org', 'B-tim',\n",
       "       'B-art', 'I-art', 'I-per', 'I-gpe', 'I-tim', 'B-nat', 'B-eve',\n",
       "       'I-eve', 'I-nat'], dtype=object)"
      ]
     },
     "execution_count": 18,
     "metadata": {},
     "output_type": "execute_result"
    }
   ],
   "source": [
    "df['Tag'].unique()"
   ]
  },
  {
   "cell_type": "code",
   "execution_count": 19,
   "id": "a156ff45-d256-4cfb-8bba-4d5370bf7ccd",
   "metadata": {},
   "outputs": [
    {
     "data": {
      "text/plain": [
       "Tag\n",
       "O        887908\n",
       "B-geo     37644\n",
       "B-tim     20333\n",
       "B-org     20143\n",
       "I-per     17251\n",
       "B-per     16990\n",
       "I-org     16784\n",
       "B-gpe     15870\n",
       "I-geo      7414\n",
       "I-tim      6528\n",
       "B-art       402\n",
       "B-eve       308\n",
       "I-art       297\n",
       "I-eve       253\n",
       "B-nat       201\n",
       "I-gpe       198\n",
       "I-nat        51\n",
       "Name: count, dtype: int64"
      ]
     },
     "execution_count": 19,
     "metadata": {},
     "output_type": "execute_result"
    }
   ],
   "source": [
    "df['Tag'].value_counts()"
   ]
  },
  {
   "cell_type": "code",
   "execution_count": 20,
   "id": "988291c4-a1a3-495f-9e1e-565233e2e89d",
   "metadata": {
    "ExecuteTime": {
     "end_time": "2024-06-09T17:07:08.281962Z",
     "start_time": "2024-06-09T17:07:08.210567Z"
    }
   },
   "outputs": [],
   "source": [
    "# About 10 values in Word are null which are basically at the start of new sentence\n",
    "df.dropna(subset='Word', inplace=True)"
   ]
  },
  {
   "cell_type": "markdown",
   "id": "88a2a7f2-b40b-4dfa-8ed0-55581fe53c63",
   "metadata": {},
   "source": [
    "#### Feature Engineering"
   ]
  },
  {
   "cell_type": "code",
   "execution_count": 21,
   "id": "6265f47e-7c7e-4427-88df-7fb633db4277",
   "metadata": {
    "ExecuteTime": {
     "end_time": "2024-06-09T17:07:09.586423Z",
     "start_time": "2024-06-09T17:07:08.285822Z"
    }
   },
   "outputs": [],
   "source": [
    "# Group the dataframe by Sentence\n",
    "sentences = df.groupby('Sentence #').apply(lambda x: [(word, tag) for word, tag in zip(x['Word'].tolist(), x['Tag'].tolist())])"
   ]
  },
  {
   "cell_type": "code",
   "execution_count": 22,
   "id": "ed59e126-3e2c-4182-8b2e-269584b15e30",
   "metadata": {
    "ExecuteTime": {
     "end_time": "2024-06-09T17:07:09.598701Z",
     "start_time": "2024-06-09T17:07:09.592013Z"
    }
   },
   "outputs": [],
   "source": [
    "# Creating nested list of all sentences\n",
    "sentences = [sentence for sentence in sentences]"
   ]
  },
  {
   "cell_type": "code",
   "execution_count": 23,
   "id": "eaf960cb-e510-43dc-a045-1dc3049f1c92",
   "metadata": {},
   "outputs": [
    {
     "data": {
      "text/plain": [
       "47959"
      ]
     },
     "execution_count": 23,
     "metadata": {},
     "output_type": "execute_result"
    }
   ],
   "source": [
    "len(sentences)"
   ]
  },
  {
   "cell_type": "code",
   "execution_count": 24,
   "id": "bf5ebaf3-e372-48c0-b84a-bd4be858209a",
   "metadata": {
    "ExecuteTime": {
     "end_time": "2024-06-09T17:07:09.617912Z",
     "start_time": "2024-06-09T17:07:09.594822Z"
    }
   },
   "outputs": [],
   "source": [
    "# Splitting the data into test train and split\n",
    "train_val_sentences, test_sentences = train_test_split(sentences, test_size=0.2, random_state=42)\n",
    "\n",
    "# Further splitting the training data into training and validation dataset\n",
    "train_sentences, val_sentences = train_test_split(train_val_sentences, test_size=0.1, random_state=42)"
   ]
  },
  {
   "cell_type": "code",
   "execution_count": 25,
   "id": "67775f4c-2023-4d68-aaa6-bd81f939c320",
   "metadata": {
    "ExecuteTime": {
     "end_time": "2024-06-09T17:07:09.620392Z",
     "start_time": "2024-06-09T17:07:09.612696Z"
    }
   },
   "outputs": [
    {
     "name": "stdout",
     "output_type": "stream",
     "text": [
      "Number of sentences - Train: 34530, Validation: 3837, Test: 9592\n"
     ]
    }
   ],
   "source": [
    "# Viewing the shape of Train test and validation dataset\n",
    "print(f\"Number of sentences - Train: {len(train_sentences)}, Validation: {len(val_sentences)}, Test: {len(test_sentences)}\")"
   ]
  },
  {
   "cell_type": "code",
   "execution_count": 26,
   "id": "47d5627d-2db1-4b98-83e2-5f3678cb01a5",
   "metadata": {
    "ExecuteTime": {
     "end_time": "2024-06-09T17:07:09.622714Z",
     "start_time": "2024-06-09T17:07:09.614920Z"
    }
   },
   "outputs": [],
   "source": [
    "# Creating the function for calculating Precision, Recall, F1 Score and Accuracy\n",
    "def evaluation_ner(true_tags, pred_tags):\n",
    "    precision, recall, f1, _ = precision_recall_fscore_support(true_tags, pred_tags, average='weighted')\n",
    "    accuracy = accuracy_score(true_tags, pred_tags)\n",
    "    return precision, recall, f1, accuracy"
   ]
  },
  {
   "cell_type": "code",
   "execution_count": 27,
   "id": "ef6aa407-9f5c-4d77-bb69-f8905589c3a2",
   "metadata": {},
   "outputs": [],
   "source": [
    "## CFR"
   ]
  },
  {
   "cell_type": "code",
   "execution_count": 28,
   "id": "ee1a255d-17ba-4f10-a3d4-84257491a1df",
   "metadata": {
    "ExecuteTime": {
     "end_time": "2024-06-09T17:07:09.640682Z",
     "start_time": "2024-06-09T17:07:09.617059Z"
    }
   },
   "outputs": [],
   "source": [
    "def word2features(sent, i):\n",
    "    word = sent[i][0]\n",
    "    features = {\n",
    "        'bias': 1.0,\n",
    "        'word': word,\n",
    "        'word.lower': word.lower(),\n",
    "        'word.isupper': word.isupper(),\n",
    "        'word.isdigit': word.isdigit(),\n",
    "    }\n",
    "    if i > 0:\n",
    "        features['prev_word'] = sent[i-1][0]\n",
    "    else:\n",
    "        features['prev_word'] = 'BOS'  # Beginning of Sentence\n",
    "    if i < len(sent)-1:\n",
    "        features['next_word'] = sent[i+1][0]\n",
    "    else:\n",
    "        features['next_word'] = 'EOS'  # End of Sentence\n",
    "    return features"
   ]
  },
  {
   "cell_type": "code",
   "execution_count": 29,
   "id": "2274818fa7ffc8de",
   "metadata": {
    "ExecuteTime": {
     "end_time": "2024-06-09T17:07:09.653125Z",
     "start_time": "2024-06-09T17:07:09.619138Z"
    },
    "collapsed": false,
    "jupyter": {
     "outputs_hidden": false
    }
   },
   "outputs": [],
   "source": [
    "def sent2features(sentence):\n",
    "    return [word2features(sentence, i) for i in range(len(sentence))]"
   ]
  },
  {
   "cell_type": "code",
   "execution_count": 30,
   "id": "a88136307b6ba8dc",
   "metadata": {
    "ExecuteTime": {
     "end_time": "2024-06-09T17:07:09.663084Z",
     "start_time": "2024-06-09T17:07:09.620981Z"
    },
    "collapsed": false,
    "jupyter": {
     "outputs_hidden": false
    }
   },
   "outputs": [],
   "source": [
    "def sent2labels(sentence):\n",
    "    return [tag for _, tag in sentence]"
   ]
  },
  {
   "cell_type": "code",
   "execution_count": 31,
   "id": "47e8eedeba482756",
   "metadata": {
    "ExecuteTime": {
     "end_time": "2024-06-09T17:07:10.742380Z",
     "start_time": "2024-06-09T17:07:09.872414Z"
    },
    "collapsed": false,
    "jupyter": {
     "outputs_hidden": false
    }
   },
   "outputs": [],
   "source": [
    "# Convert datasets into feature representation\n",
    "\n",
    "X_train = [sent2features(s) for s in train_sentences]\n",
    "y_train = [sent2labels(s) for s in train_sentences]\n",
    "\n",
    "X_val = [sent2features(s) for s in val_sentences]\n",
    "y_val = [sent2labels(s) for s in val_sentences]\n",
    "\n",
    "X_test = [sent2features(s) for s in test_sentences]\n",
    "y_test = [sent2labels(s) for s in test_sentences]"
   ]
  },
  {
   "cell_type": "markdown",
   "id": "70f1c3e0-7de4-49a6-b118-bd0791eb4dab",
   "metadata": {},
   "source": [
    "## CRF"
   ]
  },
  {
   "cell_type": "code",
   "execution_count": 32,
   "id": "c4484c50-1ea5-4161-997e-be1ad0e0654b",
   "metadata": {
    "ExecuteTime": {
     "end_time": "2024-06-09T17:07:10.756154Z",
     "start_time": "2024-06-09T17:07:10.742559Z"
    }
   },
   "outputs": [],
   "source": [
    "# Train the CRF model\n",
    "crf = CRF(algorithm='lbfgs', c1=0.1, c2=0.1, max_iterations=100)"
   ]
  },
  {
   "cell_type": "code",
   "execution_count": 33,
   "id": "3edda02217af3c18",
   "metadata": {
    "ExecuteTime": {
     "end_time": "2024-06-09T17:09:23.793194Z",
     "start_time": "2024-06-09T17:08:31.025002Z"
    },
    "collapsed": false,
    "jupyter": {
     "outputs_hidden": false
    }
   },
   "outputs": [],
   "source": [
    "# fitting the model on training data\n",
    "try:\n",
    "    crf.fit(X_train, y_train)\n",
    "except AttributeError:\n",
    "    pass"
   ]
  },
  {
   "cell_type": "code",
   "execution_count": 34,
   "id": "ca420c67-cceb-4228-84ed-ae91f211db1c",
   "metadata": {
    "ExecuteTime": {
     "end_time": "2024-06-09T17:14:47.856539Z",
     "start_time": "2024-06-09T17:14:47.727712Z"
    }
   },
   "outputs": [],
   "source": [
    "# Predicting on validation dataset\n",
    "val_predictions = crf.predict(X_val)"
   ]
  },
  {
   "cell_type": "code",
   "execution_count": 35,
   "id": "cbb036aa8434b551",
   "metadata": {
    "collapsed": false,
    "jupyter": {
     "outputs_hidden": false
    }
   },
   "outputs": [
    {
     "name": "stdout",
     "output_type": "stream",
     "text": [
      "Validation - \n",
      "\n",
      "Precision: 0.9643564539525207, \n",
      "Recall: 0.9658495654779742, \n",
      "F1 Score: 0.9647773327883615, \n",
      "Accuracy: 0.9658495654779742\n"
     ]
    }
   ],
   "source": [
    "# Flatten the lists for comparison\n",
    "true_val_labels = [label for sentence in y_val for label in sentence]\n",
    "pred_val_labels = [label for sentence in val_predictions for label in sentence]\n",
    "\n",
    "# Evaluate on the validation set\n",
    "precision, recall, f1, accuracy = evaluation_ner(true_val_labels, pred_val_labels)\n",
    "print(f\"Validation - \\n\\nPrecision: {precision}, \\nRecall: {recall}, \\nF1 Score: {f1}, \\nAccuracy: {accuracy}\")"
   ]
  },
  {
   "cell_type": "code",
   "execution_count": 36,
   "id": "62df85ef-ddc5-4038-81b0-631ec6b90e47",
   "metadata": {
    "collapsed": false,
    "jupyter": {
     "outputs_hidden": false
    }
   },
   "outputs": [],
   "source": [
    "# Predicting on test dataset\n",
    "test_predictions = crf.predict(X_test)"
   ]
  },
  {
   "cell_type": "code",
   "execution_count": 37,
   "id": "42e1573b-7732-4c8b-a37f-7f3d2089acaf",
   "metadata": {
    "collapsed": false,
    "jupyter": {
     "outputs_hidden": false
    }
   },
   "outputs": [
    {
     "name": "stdout",
     "output_type": "stream",
     "text": [
      "Validation - \n",
      "\n",
      "Precision: 0.9653775829209574, \n",
      "Recall: 0.9670344334564518, \n",
      "F1 Score: 0.9658597854652271, \n",
      "Accuracy: 0.9670344334564518\n"
     ]
    }
   ],
   "source": [
    "# Flatten the lists for comparison\n",
    "true_test_labels = [label for sentence in y_test for label in sentence]\n",
    "pred_test_labels = [label for sentence in test_predictions for label in sentence]\n",
    "\n",
    "# Evaluate on the test set\n",
    "precision, recall, f1, accuracy = evaluation_ner(true_test_labels, pred_test_labels)\n",
    "print(f\"Validation - \\n\\nPrecision: {precision}, \\nRecall: {recall}, \\nF1 Score: {f1}, \\nAccuracy: {accuracy}\")"
   ]
  },
  {
   "cell_type": "code",
   "execution_count": 38,
   "id": "ae1fb5cf-1c22-4342-9394-226385e12375",
   "metadata": {},
   "outputs": [
    {
     "name": "stdout",
     "output_type": "stream",
     "text": [
      "              precision    recall  f1-score   support\n",
      "\n",
      "       B-art       0.35      0.09      0.14        94\n",
      "       B-eve       0.60      0.34      0.44        70\n",
      "       B-geo       0.87      0.88      0.88      7558\n",
      "       B-gpe       0.97      0.93      0.95      3142\n",
      "       B-nat       0.68      0.33      0.44        40\n",
      "       B-org       0.82      0.69      0.75      4151\n",
      "       B-per       0.86      0.77      0.82      3400\n",
      "       B-tim       0.93      0.87      0.90      4077\n",
      "       I-art       0.27      0.05      0.08        84\n",
      "       I-eve       0.53      0.25      0.34        65\n",
      "       I-geo       0.82      0.79      0.80      1462\n",
      "       I-gpe       0.94      0.48      0.64        33\n",
      "       I-nat       0.86      0.46      0.60        13\n",
      "       I-org       0.82      0.75      0.78      3394\n",
      "       I-per       0.87      0.85      0.86      3406\n",
      "       I-tim       0.82      0.79      0.81      1251\n",
      "           O       0.98      0.99      0.99    177585\n",
      "\n",
      "    accuracy                           0.97    209825\n",
      "   macro avg       0.76      0.61      0.66    209825\n",
      "weighted avg       0.97      0.97      0.97    209825\n",
      "\n"
     ]
    }
   ],
   "source": [
    "# Print classification report\n",
    "print(classification_report(true_test_labels, pred_test_labels))"
   ]
  },
  {
   "cell_type": "code",
   "execution_count": 53,
   "id": "a212a755-1a31-4e3b-9187-19a7845b406c",
   "metadata": {},
   "outputs": [],
   "source": [
    "x = [i[0] for i in test_sentences[0]]"
   ]
  },
  {
   "cell_type": "code",
   "execution_count": 57,
   "id": "95aa58cc-d244-4fdf-aa99-d9bbd6dd78df",
   "metadata": {},
   "outputs": [
    {
     "data": {
      "text/plain": [
       "\"The report calls on President Bush and Congress to urge Chinese officials not to use the global war against terrorism as a pretext to suppress minorities ' rights .\""
      ]
     },
     "execution_count": 57,
     "metadata": {},
     "output_type": "execute_result"
    }
   ],
   "source": [
    "\" \".join(x)"
   ]
  },
  {
   "cell_type": "code",
   "execution_count": 58,
   "id": "efffe596-3afc-4f25-80b9-79ffe14a1b0c",
   "metadata": {
    "collapsed": false,
    "jupyter": {
     "outputs_hidden": false
    }
   },
   "outputs": [],
   "source": [
    "def predict_ner_tags_from_string(input_sentence):\n",
    "    # Creating list of words\n",
    "    words = input_sentence.split()\n",
    "    \n",
    "    # Convert the list of words into the format needed for prediction\n",
    "    formatted_sentence = [(word, \"\") for word in words]\n",
    "    \n",
    "    # Extract features and predict using the CRF model\n",
    "    features = sent2features(formatted_sentence)\n",
    "    predicted_tags = crf.predict([features])[0]\n",
    "    \n",
    "    # Combine words and their predicted tags\n",
    "    result = list(zip(words, predicted_tags))\n",
    "    return result"
   ]
  },
  {
   "cell_type": "code",
   "execution_count": 60,
   "id": "b1f0085a-283d-412c-ba55-f2b7efa65d81",
   "metadata": {
    "collapsed": false,
    "jupyter": {
     "outputs_hidden": false
    }
   },
   "outputs": [
    {
     "name": "stdin",
     "output_type": "stream",
     "text": [
      "Enter a sentence for NER tagging:  The report calls on President Bush and Congress to urge Chinese officials not to use the global war against terrorism as a pretext to suppress minorities ' rights .\n"
     ]
    },
    {
     "name": "stdout",
     "output_type": "stream",
     "text": [
      "Predicted NER Tags: [('The', 'O'), ('report', 'O'), ('calls', 'O'), ('on', 'O'), ('President', 'B-per'), ('Bush', 'I-per'), ('and', 'O'), ('Congress', 'B-org'), ('to', 'O'), ('urge', 'O'), ('Chinese', 'B-gpe'), ('officials', 'O'), ('not', 'O'), ('to', 'O'), ('use', 'O'), ('the', 'O'), ('global', 'O'), ('war', 'O'), ('against', 'O'), ('terrorism', 'O'), ('as', 'O'), ('a', 'O'), ('pretext', 'O'), ('to', 'O'), ('suppress', 'O'), ('minorities', 'O'), (\"'\", 'O'), ('rights', 'O'), ('.', 'O')]\n"
     ]
    }
   ],
   "source": [
    "# Example usage\n",
    "user_input = input(\"Enter a sentence for NER tagging: \")\n",
    "predicted_tags = predict_ner_tags_from_string(user_input)\n",
    "print(\"Predicted NER Tags:\", predicted_tags)"
   ]
  },
  {
   "cell_type": "markdown",
   "id": "499ce315-cd0e-4f08-a26d-09d4302343d1",
   "metadata": {},
   "source": [
    "## BiLSTM"
   ]
  },
  {
   "cell_type": "code",
   "execution_count": 24,
   "id": "cedeb845-71ea-44f9-8072-2b43ec628c34",
   "metadata": {},
   "outputs": [],
   "source": [
    "import tensorflow as tf\n",
    "from tensorflow.keras.preprocessing.sequence import pad_sequences\n",
    "from tensorflow.keras.utils import to_categorical\n",
    "from sklearn.model_selection import train_test_split\n",
    "from sklearn.metrics import classification_report"
   ]
  },
  {
   "cell_type": "code",
   "execution_count": 25,
   "id": "a6f2be09-225e-4f0a-a072-b1993682c93f",
   "metadata": {},
   "outputs": [],
   "source": [
    "# Extract words and tags\n",
    "words = list(set(df[\"Word\"].values))\n",
    "tags = list(set(df[\"Tag\"].values))"
   ]
  },
  {
   "cell_type": "code",
   "execution_count": 26,
   "id": "d35729bb-8cbe-4a62-b683-abf026cbafff",
   "metadata": {},
   "outputs": [],
   "source": [
    "# Add padding token to the list of words and tags\n",
    "words.append(\"PADword\")\n",
    "tags.append(\"PADtag\")"
   ]
  },
  {
   "cell_type": "code",
   "execution_count": 27,
   "id": "ba24c023-2eae-46f9-abf8-362fc530e16a",
   "metadata": {},
   "outputs": [],
   "source": [
    "# Create word and tag dictionaries\n",
    "word2idx = {w: i for i, w in enumerate(words)}\n",
    "tag2idx = {t: i for i, t in enumerate(tags)}\n",
    "idx2tag = {i: t for t, i in tag2idx.items()}"
   ]
  },
  {
   "cell_type": "code",
   "execution_count": 28,
   "id": "e33bbf59-a5ae-405d-8218-a0d66710e006",
   "metadata": {},
   "outputs": [],
   "source": [
    "# Convert sentences into numerical format\n",
    "X = [[word2idx[word[0]] for word in sentence] for sentence in sentences]\n",
    "y = [[tag2idx[word[1]] for word in sentence] for sentence in sentences]"
   ]
  },
  {
   "cell_type": "code",
   "execution_count": 63,
   "id": "2df07232-bfda-4d65-ba37-bdf476a4ce21",
   "metadata": {},
   "outputs": [
    {
     "data": {
      "text/plain": [
       "Sentence #\n",
       "Sentence: 22480    104\n",
       "Sentence: 33481     81\n",
       "Sentence: 40153     73\n",
       "Sentence: 21167     72\n",
       "Sentence: 21776     70\n",
       "                  ... \n",
       "Sentence: 1595       2\n",
       "Sentence: 40249      2\n",
       "Sentence: 37093      2\n",
       "Sentence: 8412       1\n",
       "Sentence: 38917      1\n",
       "Name: count, Length: 47959, dtype: int64"
      ]
     },
     "execution_count": 63,
     "metadata": {},
     "output_type": "execute_result"
    }
   ],
   "source": [
    "df['Sentence #'].value_counts()"
   ]
  },
  {
   "cell_type": "code",
   "execution_count": 29,
   "id": "eae62c95-230b-4155-9d04-a14db9a17ef7",
   "metadata": {},
   "outputs": [],
   "source": [
    "MAX_LEN=50"
   ]
  },
  {
   "cell_type": "code",
   "execution_count": 30,
   "id": "a87b612a-57c7-4c38-b0ff-264cb84704c9",
   "metadata": {},
   "outputs": [],
   "source": [
    "# Padding sequences\n",
    "X = pad_sequences(X, maxlen=MAX_LEN, padding='post', value=word2idx[\"PADword\"])\n",
    "y = pad_sequences(y, maxlen=MAX_LEN, padding='post', value=tag2idx[\"PADtag\"])"
   ]
  },
  {
   "cell_type": "code",
   "execution_count": 31,
   "id": "1f984844-aadc-47d8-b558-a4e9d143a28e",
   "metadata": {},
   "outputs": [],
   "source": [
    "# Convert labels to categorical (one-hot encoding)\n",
    "y = [to_categorical(i, num_classes=len(tag2idx)) for i in y]"
   ]
  },
  {
   "cell_type": "code",
   "execution_count": 32,
   "id": "fa288307-a43c-4900-9dc1-3bf0242c3772",
   "metadata": {},
   "outputs": [],
   "source": [
    "# Split the data into train, validation, and test sets\n",
    "X_train, X_test, y_train, y_test = train_test_split(X, y, test_size=0.2, random_state=42)\n",
    "X_train, X_val, y_train, y_val = train_test_split(X_train, y_train, test_size=0.1, random_state=42)"
   ]
  },
  {
   "cell_type": "code",
   "execution_count": 33,
   "id": "953375a5-3c37-4289-8497-7123eb1da2ed",
   "metadata": {},
   "outputs": [],
   "source": [
    "# Define the BiLSTM Model\n",
    "input = tf.keras.Input(shape=(MAX_LEN,))"
   ]
  },
  {
   "cell_type": "code",
   "execution_count": 34,
   "id": "a4b8eaac-5328-45fb-b9a8-89c6340eb9b8",
   "metadata": {},
   "outputs": [],
   "source": [
    "# Embedding layer\n",
    "model = tf.keras.layers.Embedding(input_dim=len(words), output_dim=100, input_length=MAX_LEN)(input)\n",
    "\n",
    "# BiLSTM layer\n",
    "model = tf.keras.layers.Bidirectional(tf.keras.layers.LSTM(units=100, return_sequences=True, recurrent_dropout=0.1))(model)\n",
    "\n",
    "# Dense layer\n",
    "model = tf.keras.layers.TimeDistributed(tf.keras.layers.Dense(len(tag2idx), activation=\"softmax\"))(model)"
   ]
  },
  {
   "cell_type": "code",
   "execution_count": 35,
   "id": "3ff05066-a562-461d-9bc4-7d88794d8124",
   "metadata": {},
   "outputs": [],
   "source": [
    "# Build the model\n",
    "model = tf.keras.Model(input, model)"
   ]
  },
  {
   "cell_type": "code",
   "execution_count": 36,
   "id": "b30d358e-0ad8-4c9d-8616-fbfe82156f16",
   "metadata": {},
   "outputs": [],
   "source": [
    "# Compile the model\n",
    "model.compile(optimizer='adam', loss='categorical_crossentropy', metrics=['accuracy'])"
   ]
  },
  {
   "cell_type": "code",
   "execution_count": 37,
   "id": "c7752f8c-5bf3-4fd7-a302-0c145500ed9c",
   "metadata": {},
   "outputs": [
    {
     "data": {
      "text/html": [
       "<pre style=\"white-space:pre;overflow-x:auto;line-height:normal;font-family:Menlo,'DejaVu Sans Mono',consolas,'Courier New',monospace\"><span style=\"font-weight: bold\">Model: \"functional_1\"</span>\n",
       "</pre>\n"
      ],
      "text/plain": [
       "\u001b[1mModel: \"functional_1\"\u001b[0m\n"
      ]
     },
     "metadata": {},
     "output_type": "display_data"
    },
    {
     "data": {
      "text/html": [
       "<pre style=\"white-space:pre;overflow-x:auto;line-height:normal;font-family:Menlo,'DejaVu Sans Mono',consolas,'Courier New',monospace\">┏━━━━━━━━━━━━━━━━━━━━━━━━━━━━━━━━━┳━━━━━━━━━━━━━━━━━━━━━━━━┳━━━━━━━━━━━━━━━┓\n",
       "┃<span style=\"font-weight: bold\"> Layer (type)                    </span>┃<span style=\"font-weight: bold\"> Output Shape           </span>┃<span style=\"font-weight: bold\">       Param # </span>┃\n",
       "┡━━━━━━━━━━━━━━━━━━━━━━━━━━━━━━━━━╇━━━━━━━━━━━━━━━━━━━━━━━━╇━━━━━━━━━━━━━━━┩\n",
       "│ input_layer (<span style=\"color: #0087ff; text-decoration-color: #0087ff\">InputLayer</span>)        │ (<span style=\"color: #00d7ff; text-decoration-color: #00d7ff\">None</span>, <span style=\"color: #00af00; text-decoration-color: #00af00\">50</span>)             │             <span style=\"color: #00af00; text-decoration-color: #00af00\">0</span> │\n",
       "├─────────────────────────────────┼────────────────────────┼───────────────┤\n",
       "│ embedding (<span style=\"color: #0087ff; text-decoration-color: #0087ff\">Embedding</span>)           │ (<span style=\"color: #00d7ff; text-decoration-color: #00d7ff\">None</span>, <span style=\"color: #00af00; text-decoration-color: #00af00\">50</span>, <span style=\"color: #00af00; text-decoration-color: #00af00\">100</span>)        │     <span style=\"color: #00af00; text-decoration-color: #00af00\">3,517,800</span> │\n",
       "├─────────────────────────────────┼────────────────────────┼───────────────┤\n",
       "│ bidirectional (<span style=\"color: #0087ff; text-decoration-color: #0087ff\">Bidirectional</span>)   │ (<span style=\"color: #00d7ff; text-decoration-color: #00d7ff\">None</span>, <span style=\"color: #00af00; text-decoration-color: #00af00\">50</span>, <span style=\"color: #00af00; text-decoration-color: #00af00\">200</span>)        │       <span style=\"color: #00af00; text-decoration-color: #00af00\">160,800</span> │\n",
       "├─────────────────────────────────┼────────────────────────┼───────────────┤\n",
       "│ time_distributed                │ (<span style=\"color: #00d7ff; text-decoration-color: #00d7ff\">None</span>, <span style=\"color: #00af00; text-decoration-color: #00af00\">50</span>, <span style=\"color: #00af00; text-decoration-color: #00af00\">18</span>)         │         <span style=\"color: #00af00; text-decoration-color: #00af00\">3,618</span> │\n",
       "│ (<span style=\"color: #0087ff; text-decoration-color: #0087ff\">TimeDistributed</span>)               │                        │               │\n",
       "└─────────────────────────────────┴────────────────────────┴───────────────┘\n",
       "</pre>\n"
      ],
      "text/plain": [
       "┏━━━━━━━━━━━━━━━━━━━━━━━━━━━━━━━━━┳━━━━━━━━━━━━━━━━━━━━━━━━┳━━━━━━━━━━━━━━━┓\n",
       "┃\u001b[1m \u001b[0m\u001b[1mLayer (type)                   \u001b[0m\u001b[1m \u001b[0m┃\u001b[1m \u001b[0m\u001b[1mOutput Shape          \u001b[0m\u001b[1m \u001b[0m┃\u001b[1m \u001b[0m\u001b[1m      Param #\u001b[0m\u001b[1m \u001b[0m┃\n",
       "┡━━━━━━━━━━━━━━━━━━━━━━━━━━━━━━━━━╇━━━━━━━━━━━━━━━━━━━━━━━━╇━━━━━━━━━━━━━━━┩\n",
       "│ input_layer (\u001b[38;5;33mInputLayer\u001b[0m)        │ (\u001b[38;5;45mNone\u001b[0m, \u001b[38;5;34m50\u001b[0m)             │             \u001b[38;5;34m0\u001b[0m │\n",
       "├─────────────────────────────────┼────────────────────────┼───────────────┤\n",
       "│ embedding (\u001b[38;5;33mEmbedding\u001b[0m)           │ (\u001b[38;5;45mNone\u001b[0m, \u001b[38;5;34m50\u001b[0m, \u001b[38;5;34m100\u001b[0m)        │     \u001b[38;5;34m3,517,800\u001b[0m │\n",
       "├─────────────────────────────────┼────────────────────────┼───────────────┤\n",
       "│ bidirectional (\u001b[38;5;33mBidirectional\u001b[0m)   │ (\u001b[38;5;45mNone\u001b[0m, \u001b[38;5;34m50\u001b[0m, \u001b[38;5;34m200\u001b[0m)        │       \u001b[38;5;34m160,800\u001b[0m │\n",
       "├─────────────────────────────────┼────────────────────────┼───────────────┤\n",
       "│ time_distributed                │ (\u001b[38;5;45mNone\u001b[0m, \u001b[38;5;34m50\u001b[0m, \u001b[38;5;34m18\u001b[0m)         │         \u001b[38;5;34m3,618\u001b[0m │\n",
       "│ (\u001b[38;5;33mTimeDistributed\u001b[0m)               │                        │               │\n",
       "└─────────────────────────────────┴────────────────────────┴───────────────┘\n"
      ]
     },
     "metadata": {},
     "output_type": "display_data"
    },
    {
     "data": {
      "text/html": [
       "<pre style=\"white-space:pre;overflow-x:auto;line-height:normal;font-family:Menlo,'DejaVu Sans Mono',consolas,'Courier New',monospace\"><span style=\"font-weight: bold\"> Total params: </span><span style=\"color: #00af00; text-decoration-color: #00af00\">3,682,218</span> (14.05 MB)\n",
       "</pre>\n"
      ],
      "text/plain": [
       "\u001b[1m Total params: \u001b[0m\u001b[38;5;34m3,682,218\u001b[0m (14.05 MB)\n"
      ]
     },
     "metadata": {},
     "output_type": "display_data"
    },
    {
     "data": {
      "text/html": [
       "<pre style=\"white-space:pre;overflow-x:auto;line-height:normal;font-family:Menlo,'DejaVu Sans Mono',consolas,'Courier New',monospace\"><span style=\"font-weight: bold\"> Trainable params: </span><span style=\"color: #00af00; text-decoration-color: #00af00\">3,682,218</span> (14.05 MB)\n",
       "</pre>\n"
      ],
      "text/plain": [
       "\u001b[1m Trainable params: \u001b[0m\u001b[38;5;34m3,682,218\u001b[0m (14.05 MB)\n"
      ]
     },
     "metadata": {},
     "output_type": "display_data"
    },
    {
     "data": {
      "text/html": [
       "<pre style=\"white-space:pre;overflow-x:auto;line-height:normal;font-family:Menlo,'DejaVu Sans Mono',consolas,'Courier New',monospace\"><span style=\"font-weight: bold\"> Non-trainable params: </span><span style=\"color: #00af00; text-decoration-color: #00af00\">0</span> (0.00 B)\n",
       "</pre>\n"
      ],
      "text/plain": [
       "\u001b[1m Non-trainable params: \u001b[0m\u001b[38;5;34m0\u001b[0m (0.00 B)\n"
      ]
     },
     "metadata": {},
     "output_type": "display_data"
    }
   ],
   "source": [
    "# Print model summary\n",
    "model.summary()"
   ]
  },
  {
   "cell_type": "code",
   "execution_count": 38,
   "id": "8dc70ae3-39a6-4bb8-acf9-c5064848763c",
   "metadata": {},
   "outputs": [
    {
     "name": "stdout",
     "output_type": "stream",
     "text": [
      "Epoch 1/5\n",
      "\u001b[1m1080/1080\u001b[0m \u001b[32m━━━━━━━━━━━━━━━━━━━━\u001b[0m\u001b[37m\u001b[0m \u001b[1m67s\u001b[0m 60ms/step - accuracy: 0.9332 - loss: 0.2998 - val_accuracy: 0.9830 - val_loss: 0.0568\n",
      "Epoch 2/5\n",
      "\u001b[1m1080/1080\u001b[0m \u001b[32m━━━━━━━━━━━━━━━━━━━━\u001b[0m\u001b[37m\u001b[0m \u001b[1m68s\u001b[0m 63ms/step - accuracy: 0.9865 - loss: 0.0442 - val_accuracy: 0.9854 - val_loss: 0.0482\n",
      "Epoch 3/5\n",
      "\u001b[1m1080/1080\u001b[0m \u001b[32m━━━━━━━━━━━━━━━━━━━━\u001b[0m\u001b[37m\u001b[0m \u001b[1m68s\u001b[0m 63ms/step - accuracy: 0.9900 - loss: 0.0318 - val_accuracy: 0.9855 - val_loss: 0.0480\n",
      "Epoch 4/5\n",
      "\u001b[1m1080/1080\u001b[0m \u001b[32m━━━━━━━━━━━━━━━━━━━━\u001b[0m\u001b[37m\u001b[0m \u001b[1m81s\u001b[0m 75ms/step - accuracy: 0.9918 - loss: 0.0253 - val_accuracy: 0.9857 - val_loss: 0.0489\n",
      "Epoch 5/5\n",
      "\u001b[1m1080/1080\u001b[0m \u001b[32m━━━━━━━━━━━━━━━━━━━━\u001b[0m\u001b[37m\u001b[0m \u001b[1m69s\u001b[0m 64ms/step - accuracy: 0.9931 - loss: 0.0210 - val_accuracy: 0.9853 - val_loss: 0.0519\n"
     ]
    }
   ],
   "source": [
    "# Train the model\n",
    "history = model.fit(X_train, np.array(y_train), validation_data=(X_val, np.array(y_val)), batch_size=32, epochs=5, verbose=1)"
   ]
  },
  {
   "cell_type": "code",
   "execution_count": 39,
   "id": "e9517012-f666-4b9e-9a0a-2939a121f9d3",
   "metadata": {},
   "outputs": [
    {
     "name": "stdout",
     "output_type": "stream",
     "text": [
      "\u001b[1m300/300\u001b[0m \u001b[32m━━━━━━━━━━━━━━━━━━━━\u001b[0m\u001b[37m\u001b[0m \u001b[1m5s\u001b[0m 15ms/step\n"
     ]
    }
   ],
   "source": [
    "# Evaluate the model\n",
    "test_pred = model.predict(X_test, verbose=1)"
   ]
  },
  {
   "cell_type": "code",
   "execution_count": 40,
   "id": "894bb8f9-f6df-49ed-9c7d-da8df6048281",
   "metadata": {},
   "outputs": [],
   "source": [
    "# Convert predictions to label format\n",
    "pred_labels = np.argmax(test_pred, axis=-1)\n",
    "true_labels = np.argmax(np.array(y_test), axis=-1)"
   ]
  },
  {
   "cell_type": "code",
   "execution_count": 41,
   "id": "99d3580c-1dfc-46bd-a413-85993373ebd1",
   "metadata": {},
   "outputs": [],
   "source": [
    "# Flatten the labels for evaluation\n",
    "flat_true_labels = [idx2tag[i] for sublist in true_labels for i in sublist if i != tag2idx['PADtag']]\n",
    "flat_pred_labels = [idx2tag[i] for sublist in pred_labels for i in sublist if i != tag2idx['PADtag']]"
   ]
  },
  {
   "cell_type": "code",
   "execution_count": 42,
   "id": "0abd4cb9-a373-4a29-9955-28807811ffad",
   "metadata": {},
   "outputs": [
    {
     "name": "stdout",
     "output_type": "stream",
     "text": [
      "Validation - \n",
      "\n",
      "Precision: 0.9671529855975101, \n",
      "Recall: 0.9678869988602603, \n",
      "F1 Score: 0.9673189764422029, \n",
      "Accuracy: 0.9678869988602603\n"
     ]
    }
   ],
   "source": [
    "# Evaluate on the test set\n",
    "precision, recall, f1, accuracy = evaluation_ner(flat_true_labels, flat_pred_labels)\n",
    "print(f\"Validation - \\n\\nPrecision: {precision}, \\nRecall: {recall}, \\nF1 Score: {f1}, \\nAccuracy: {accuracy}\")"
   ]
  },
  {
   "cell_type": "code",
   "execution_count": 43,
   "id": "ab884c5b-4829-4e6a-9d24-46d7ad2ea536",
   "metadata": {
    "scrolled": true
   },
   "outputs": [
    {
     "name": "stdout",
     "output_type": "stream",
     "text": [
      "              precision    recall  f1-score   support\n",
      "\n",
      "       B-art       0.42      0.05      0.09        94\n",
      "       B-eve       0.62      0.26      0.36        70\n",
      "       B-geo       0.86      0.89      0.87      7556\n",
      "       B-gpe       0.96      0.94      0.95      3137\n",
      "       B-nat       0.33      0.28      0.30        40\n",
      "       B-org       0.76      0.73      0.75      4148\n",
      "       B-per       0.85      0.80      0.82      3397\n",
      "       B-tim       0.92      0.88      0.90      4074\n",
      "       I-art       0.00      0.00      0.00        84\n",
      "       I-eve       0.47      0.12      0.20        65\n",
      "       I-geo       0.79      0.79      0.79      1461\n",
      "       I-gpe       0.86      0.55      0.67        33\n",
      "       I-nat       1.00      0.08      0.14        13\n",
      "       I-org       0.78      0.79      0.79      3391\n",
      "       I-per       0.86      0.88      0.87      3404\n",
      "       I-tim       0.76      0.83      0.79      1249\n",
      "           O       0.99      0.99      0.99    177481\n",
      "\n",
      "    accuracy                           0.97    209697\n",
      "   macro avg       0.72      0.58      0.60    209697\n",
      "weighted avg       0.97      0.97      0.97    209697\n",
      "\n"
     ]
    }
   ],
   "source": [
    "# Print classification report\n",
    "print(classification_report(flat_true_labels, flat_pred_labels))"
   ]
  },
  {
   "cell_type": "code",
   "execution_count": null,
   "id": "eceb9db9-c771-44c7-beb7-183cbcf99013",
   "metadata": {},
   "outputs": [],
   "source": []
  },
  {
   "cell_type": "code",
   "execution_count": null,
   "id": "52d5c059-f068-4d38-adff-edba8bd5f820",
   "metadata": {},
   "outputs": [],
   "source": []
  },
  {
   "cell_type": "code",
   "execution_count": null,
   "id": "7f444891-1df6-47d3-8456-4813c1055b18",
   "metadata": {},
   "outputs": [],
   "source": []
  },
  {
   "cell_type": "code",
   "execution_count": null,
   "id": "7ac0dfde-a490-414b-8a22-888218021af8",
   "metadata": {},
   "outputs": [],
   "source": []
  },
  {
   "cell_type": "code",
   "execution_count": null,
   "id": "c2317610-6bcf-4193-a373-0d2d35a167a3",
   "metadata": {},
   "outputs": [],
   "source": []
  }
 ],
 "metadata": {
  "kernelspec": {
   "display_name": "Python 3 (ipykernel)",
   "language": "python",
   "name": "python3"
  },
  "language_info": {
   "codemirror_mode": {
    "name": "ipython",
    "version": 3
   },
   "file_extension": ".py",
   "mimetype": "text/x-python",
   "name": "python",
   "nbconvert_exporter": "python",
   "pygments_lexer": "ipython3",
   "version": "3.12.1"
  }
 },
 "nbformat": 4,
 "nbformat_minor": 5
}
